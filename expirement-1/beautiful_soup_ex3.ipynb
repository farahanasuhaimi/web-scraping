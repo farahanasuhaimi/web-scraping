{
 "cells": [
  {
   "cell_type": "markdown",
   "metadata": {},
   "source": [
    "### Experiment 3 with Beautiful Soup\n",
    "  Scaping data from real website\n"
   ]
  },
  {
   "cell_type": "code",
   "execution_count": 1,
   "metadata": {},
   "outputs": [],
   "source": [
    "from bs4 import BeautifulSoup\n",
    "import requests"
   ]
  },
  {
   "cell_type": "code",
   "execution_count": 2,
   "metadata": {},
   "outputs": [],
   "source": [
    "url = 'https://en.wikipedia.org/wiki/List_of_largest_manufacturing_companies_by_revenue'\n",
    "page = requests.get(url)\n",
    "soup = BeautifulSoup(page.text, 'html')"
   ]
  },
  {
   "cell_type": "code",
   "execution_count": 3,
   "metadata": {},
   "outputs": [],
   "source": [
    "# soup.find_all('table')[0]"
   ]
  },
  {
   "cell_type": "code",
   "execution_count": 4,
   "metadata": {},
   "outputs": [
    {
     "name": "stdout",
     "output_type": "stream",
     "text": [
      "\u001b[1;31mSignature:\u001b[0m \u001b[0msoup\u001b[0m\u001b[1;33m.\u001b[0m\u001b[0mfind\u001b[0m\u001b[1;33m(\u001b[0m\u001b[0mname\u001b[0m\u001b[1;33m=\u001b[0m\u001b[1;32mNone\u001b[0m\u001b[1;33m,\u001b[0m \u001b[0mattrs\u001b[0m\u001b[1;33m=\u001b[0m\u001b[1;33m{\u001b[0m\u001b[1;33m}\u001b[0m\u001b[1;33m,\u001b[0m \u001b[0mrecursive\u001b[0m\u001b[1;33m=\u001b[0m\u001b[1;32mTrue\u001b[0m\u001b[1;33m,\u001b[0m \u001b[0mstring\u001b[0m\u001b[1;33m=\u001b[0m\u001b[1;32mNone\u001b[0m\u001b[1;33m,\u001b[0m \u001b[1;33m**\u001b[0m\u001b[0mkwargs\u001b[0m\u001b[1;33m)\u001b[0m\u001b[1;33m\u001b[0m\u001b[1;33m\u001b[0m\u001b[0m\n",
      "\u001b[1;31mDocstring:\u001b[0m\n",
      "Look in the children of this PageElement and find the first\n",
      "PageElement that matches the given criteria.\n",
      "\n",
      "All find_* methods take a common set of arguments. See the online\n",
      "documentation for detailed explanations.\n",
      "\n",
      ":param name: A filter on tag name.\n",
      ":param attrs: A dictionary of filters on attribute values.\n",
      ":param recursive: If this is True, find() will perform a\n",
      "    recursive search of this PageElement's children. Otherwise,\n",
      "    only the direct children will be considered.\n",
      ":param limit: Stop looking after finding this many results.\n",
      ":kwargs: A dictionary of filters on attribute values.\n",
      ":return: A PageElement.\n",
      ":rtype: bs4.element.Tag | bs4.element.NavigableString\n",
      "\u001b[1;31mFile:\u001b[0m      c:\\users\\igs\\appdata\\local\\programs\\python\\python310\\lib\\site-packages\\bs4\\element.py\n",
      "\u001b[1;31mType:\u001b[0m      method"
     ]
    }
   ],
   "source": [
    "help soup.find?"
   ]
  },
  {
   "cell_type": "code",
   "execution_count": 5,
   "metadata": {},
   "outputs": [],
   "source": [
    "# Get the first table as table_1\n",
    "table_1 = soup.find_all('table')[0]"
   ]
  },
  {
   "cell_type": "code",
   "execution_count": 6,
   "metadata": {},
   "outputs": [],
   "source": [
    "titles = soup.find_all('th')"
   ]
  },
  {
   "cell_type": "code",
   "execution_count": 7,
   "metadata": {},
   "outputs": [
    {
     "data": {
      "text/plain": [
       "[<th scope=\"col\">No.\n",
       " </th>,\n",
       " <th scope=\"col\">Company\n",
       " </th>,\n",
       " <th scope=\"col\">Industry\n",
       " </th>,\n",
       " <th scope=\"col\">Revenue (by US$ billion)\n",
       " </th>,\n",
       " <th scope=\"col\">Headquarters\n",
       " </th>,\n",
       " <th scope=\"col\">No.\n",
       " </th>,\n",
       " <th scope=\"col\">Company\n",
       " </th>,\n",
       " <th scope=\"col\">Industry\n",
       " </th>,\n",
       " <th scope=\"col\">Revenue (by US$ billion)\n",
       " </th>,\n",
       " <th scope=\"col\">Headquarters\n",
       " </th>,\n",
       " <th class=\"navbox-title\" colspan=\"2\" scope=\"col\"><link href=\"mw-data:TemplateStyles:r1129693374\" rel=\"mw-deduplicated-inline-style\"/><style data-mw-deduplicate=\"TemplateStyles:r1063604349\">.mw-parser-output .navbar{display:inline;font-size:88%;font-weight:normal}.mw-parser-output .navbar-collapse{float:left;text-align:left}.mw-parser-output .navbar-boxtext{word-spacing:0}.mw-parser-output .navbar ul{display:inline-block;white-space:nowrap;line-height:inherit}.mw-parser-output .navbar-brackets::before{margin-right:-0.125em;content:\"[ \"}.mw-parser-output .navbar-brackets::after{margin-left:-0.125em;content:\" ]\"}.mw-parser-output .navbar li{word-spacing:-0.125em}.mw-parser-output .navbar a>span,.mw-parser-output .navbar a>abbr{text-decoration:inherit}.mw-parser-output .navbar-mini abbr{font-variant:small-caps;border-bottom:none;text-decoration:none;cursor:inherit}.mw-parser-output .navbar-ct-full{font-size:114%;margin:0 7em}.mw-parser-output .navbar-ct-mini{font-size:114%;margin:0 4em}</style><div class=\"navbar plainlinks hlist navbar-mini\"><ul><li class=\"nv-view\"><a href=\"/wiki/Template:Wealth\" title=\"Template:Wealth\"><abbr style=\";;background:none transparent;border:none;box-shadow:none;padding:0;\" title=\"View this template\">v</abbr></a></li><li class=\"nv-talk\"><a href=\"/wiki/Template_talk:Wealth\" title=\"Template talk:Wealth\"><abbr style=\";;background:none transparent;border:none;box-shadow:none;padding:0;\" title=\"Discuss this template\">t</abbr></a></li><li class=\"nv-edit\"><a class=\"external text\" href=\"https://en.wikipedia.org/w/index.php?title=Template:Wealth&amp;action=edit\"><abbr style=\";;background:none transparent;border:none;box-shadow:none;padding:0;\" title=\"Edit this template\">e</abbr></a></li></ul></div><div id=\"Extreme_wealth\" style=\"font-size:114%;margin:0 4em\">Extreme <a href=\"/wiki/Wealth\" title=\"Wealth\">wealth</a></div></th>,\n",
       " <th class=\"navbox-group\" scope=\"row\" style=\"width:1%\">Concepts</th>,\n",
       " <th class=\"navbox-group\" scope=\"row\" style=\"width:1%\">People</th>,\n",
       " <th class=\"navbox-group\" scope=\"row\" style=\"width:1%\"><a href=\"/wiki/Wealth\" title=\"Wealth\">Wealth</a></th>,\n",
       " <th class=\"navbox-group\" scope=\"row\" style=\"width:1%\">Lists</th>,\n",
       " <th class=\"navbox-group\" scope=\"row\" style=\"width:1%\"><a href=\"/wiki/Lists_of_people_by_net_worth\" title=\"Lists of people by net worth\">People</a></th>,\n",
       " <th class=\"navbox-group\" scope=\"row\" style=\"width:1%\"><a class=\"mw-redirect\" href=\"/wiki/List_of_wealthiest_organizations\" title=\"List of wealthiest organizations\">Organizations</a></th>,\n",
       " <th class=\"navbox-group\" scope=\"row\" style=\"width:1%\">Other</th>,\n",
       " <th class=\"navbox-group\" scope=\"row\" style=\"width:1%\">Related</th>,\n",
       " <th class=\"navbox-group\" scope=\"row\" style=\"width:1%\"><a href=\"/wiki/Philanthropy\" title=\"Philanthropy\">Philanthropy</a></th>,\n",
       " <th class=\"navbox-group\" scope=\"row\" style=\"width:1%\">Sayings</th>,\n",
       " <th class=\"navbox-group\" scope=\"row\" style=\"width:1%\">Media</th>]"
      ]
     },
     "execution_count": 7,
     "metadata": {},
     "output_type": "execute_result"
    }
   ],
   "source": [
    "# show all the th html  tag\n",
    "titles"
   ]
  },
  {
   "cell_type": "markdown",
   "metadata": {},
   "source": [
    "!<img src=\"images/image.png\" alt=\"alt text\" width=\"50%\" height=\"auto\" class=\"blog-image\">"
   ]
  },
  {
   "cell_type": "code",
   "execution_count": 41,
   "metadata": {},
   "outputs": [],
   "source": [
    "table_title = [title.text for title in titles]"
   ]
  },
  {
   "cell_type": "code",
   "execution_count": 42,
   "metadata": {},
   "outputs": [
    {
     "data": {
      "text/plain": [
       "['No.\\n',\n",
       " 'Company\\n',\n",
       " 'Industry\\n',\n",
       " 'Revenue (by US$ billion)\\n',\n",
       " 'Headquarters\\n',\n",
       " 'No.\\n',\n",
       " 'Company\\n',\n",
       " 'Industry\\n',\n",
       " 'Revenue (by US$ billion)\\n',\n",
       " 'Headquarters\\n',\n",
       " 'vteExtreme wealth',\n",
       " 'Concepts',\n",
       " 'People',\n",
       " 'Wealth',\n",
       " 'Lists',\n",
       " 'People',\n",
       " 'Organizations',\n",
       " 'Other',\n",
       " 'Related',\n",
       " 'Philanthropy',\n",
       " 'Sayings',\n",
       " 'Media']"
      ]
     },
     "execution_count": 42,
     "metadata": {},
     "output_type": "execute_result"
    }
   ],
   "source": [
    "table_title"
   ]
  },
  {
   "cell_type": "code",
   "execution_count": null,
   "metadata": {},
   "outputs": [],
   "source": []
  }
 ],
 "metadata": {
  "kernelspec": {
   "display_name": "Python 3",
   "language": "python",
   "name": "python3"
  },
  "language_info": {
   "codemirror_mode": {
    "name": "ipython",
    "version": 3
   },
   "file_extension": ".py",
   "mimetype": "text/x-python",
   "name": "python",
   "nbconvert_exporter": "python",
   "pygments_lexer": "ipython3",
   "version": "3.10.5"
  },
  "orig_nbformat": 4
 },
 "nbformat": 4,
 "nbformat_minor": 2
}
