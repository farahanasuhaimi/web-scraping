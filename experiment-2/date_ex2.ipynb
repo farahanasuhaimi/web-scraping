{
 "cells": [
  {
   "cell_type": "markdown",
   "id": "9a25b064-3aaa-469f-b40a-907d3340ae00",
   "metadata": {},
   "source": [
    "#### Webscraping for dates \n",
    "2024 Malaysia Holiday"
   ]
  },
  {
   "cell_type": "code",
   "execution_count": 1,
   "id": "5ce6c28b-fba5-4f85-8229-ca5c71ae8e92",
   "metadata": {
    "tags": []
   },
   "outputs": [],
   "source": [
    "import pandas as pd\n",
    "from bs4 import BeautifulSoup\n",
    "import requests"
   ]
  },
  {
   "cell_type": "code",
   "execution_count": 2,
   "id": "b7b05e36-24c7-4a2a-a9c7-c86c91bf0460",
   "metadata": {
    "tags": []
   },
   "outputs": [],
   "source": [
    "url = 'https://www.officeholidays.com/calendars/planners/malaysia/2024'\n",
    "page = requests.get(url)\n",
    "soup = BeautifulSoup(page.text, 'html') "
   ]
  },
  {
   "cell_type": "code",
   "execution_count": 3,
   "id": "13795c71-67d0-4b5e-8076-0b65e3a80a4b",
   "metadata": {
    "tags": []
   },
   "outputs": [
    {
     "ename": "IndexError",
     "evalue": "list index out of range",
     "output_type": "error",
     "traceback": [
      "\u001b[1;31m---------------------------------------------------------------------------\u001b[0m",
      "\u001b[1;31mIndexError\u001b[0m                                Traceback (most recent call last)",
      "Cell \u001b[1;32mIn[3], line 1\u001b[0m\n\u001b[1;32m----> 1\u001b[0m table \u001b[38;5;241m=\u001b[39m \u001b[43msoup\u001b[49m\u001b[38;5;241;43m.\u001b[39;49m\u001b[43mfind_all\u001b[49m\u001b[43m(\u001b[49m\u001b[38;5;124;43m'\u001b[39;49m\u001b[38;5;124;43mtable\u001b[39;49m\u001b[38;5;124;43m'\u001b[39;49m\u001b[43m)\u001b[49m\u001b[43m[\u001b[49m\u001b[38;5;241;43m0\u001b[39;49m\u001b[43m]\u001b[49m\n",
      "\u001b[1;31mIndexError\u001b[0m: list index out of range"
     ]
    }
   ],
   "source": [
    "table = soup.find_all('table')[0]"
   ]
  },
  {
   "cell_type": "code",
   "execution_count": null,
   "id": "29ace05e-54eb-4f78-bc66-649927e86fc3",
   "metadata": {
    "tags": []
   },
   "outputs": [],
   "source": [
    "titles = table.find_all('th')\n",
    "titles"
   ]
  },
  {
   "cell_type": "code",
   "execution_count": null,
   "id": "a8d18e33-f333-46ec-b498-dc153d3e8453",
   "metadata": {
    "tags": []
   },
   "outputs": [],
   "source": [
    "table_title = [title.text.strip() for title in titles]\n",
    "print(table_title)"
   ]
  },
  {
   "cell_type": "code",
   "execution_count": null,
   "id": "20ca6ed0-433c-49de-97cc-3623aace98ca",
   "metadata": {
    "tags": []
   },
   "outputs": [],
   "source": [
    "df = pd.DataFrame(columns=table_title)\n",
    "df"
   ]
  },
  {
   "cell_type": "code",
   "execution_count": null,
   "id": "697132af-0009-44f2-a86c-a1f5dac2254c",
   "metadata": {
    "tags": []
   },
   "outputs": [],
   "source": [
    "column_data = table.find_all('tr')"
   ]
  },
  {
   "cell_type": "code",
   "execution_count": null,
   "id": "10ff12aa-5664-4ec8-983f-5943c4af4c36",
   "metadata": {
    "tags": []
   },
   "outputs": [],
   "source": [
    "for row in column_data[1:]:\n",
    "    row_data = row.find_all('td')\n",
    "    ind_row = [data.text.strip() for data in row_data]\n",
    "    print(ind_row)"
   ]
  },
  {
   "cell_type": "code",
   "execution_count": null,
   "id": "94675940-70d1-4004-b650-22873684794e",
   "metadata": {
    "tags": []
   },
   "outputs": [],
   "source": [
    "for row in column_data[1:]:\n",
    "    row_data = row.find_all('td')\n",
    "    ind_row = [data.text.strip() for data in row_data]\n",
    "\n",
    "    length = len(df)\n",
    "    df.loc[length] = ind_row\n",
    "\n",
    "df"
   ]
  },
  {
   "cell_type": "code",
   "execution_count": null,
   "id": "2ae67ebe-146c-4abc-9025-dd5614684156",
   "metadata": {
    "tags": []
   },
   "outputs": [],
   "source": [
    "# Add a year to the date values (e.g., 2023)\n",
    "df['Date'] = df['Date'] + ' 2023'\n",
    "\n",
    "# Convert 'Date' column to datetime\n",
    "df['Date'] = pd.to_datetime(df['Date'], format='%b %d %Y')\n",
    "\n",
    "\n",
    "# Print the DataFrame\n",
    "print(df)"
   ]
  },
  {
   "cell_type": "code",
   "execution_count": null,
   "id": "817f47ce-e6ee-4b73-aaec-31dc1495b296",
   "metadata": {
    "tags": []
   },
   "outputs": [],
   "source": [
    "df['Date'].dt.strftime('%d-%m-%Y')"
   ]
  },
  {
   "cell_type": "code",
   "execution_count": null,
   "id": "716e8834-be40-4a51-8591-854f35c9efbc",
   "metadata": {
    "tags": []
   },
   "outputs": [],
   "source": [
    "df"
   ]
  },
  {
   "cell_type": "code",
   "execution_count": null,
   "id": "2fefcc98-0c27-4fbb-a25f-fa53c772701e",
   "metadata": {
    "tags": []
   },
   "outputs": [],
   "source": [
    "df.to_csv('holiday_2023.csv', index=False)"
   ]
  },
  {
   "cell_type": "code",
   "execution_count": null,
   "id": "dc748a0e-47ed-4b58-b882-1e34c5f9cc4f",
   "metadata": {
    "tags": []
   },
   "outputs": [],
   "source": [
    "# Filter rows with 'Type' column equal to 'National Holiday'\n",
    "national_holidays_df = df[df['Type'] == 'National Holiday']\n",
    "\n",
    "# Print the filtered DataFrame\n",
    "print(national_holidays_df)"
   ]
  },
  {
   "cell_type": "code",
   "execution_count": null,
   "id": "a61195a5-3426-4ad2-9ba2-405b96069436",
   "metadata": {
    "tags": []
   },
   "outputs": [],
   "source": [
    "df.to_csv('holidayMalaysia_2023.csv', index=False)"
   ]
  },
  {
   "cell_type": "code",
   "execution_count": null,
   "id": "80e96748-f3c4-48b6-a49b-c21f3bd1092c",
   "metadata": {},
   "outputs": [],
   "source": []
  }
 ],
 "metadata": {
  "kernelspec": {
   "display_name": "Python 3 (ipykernel)",
   "language": "python",
   "name": "python3"
  },
  "language_info": {
   "codemirror_mode": {
    "name": "ipython",
    "version": 3
   },
   "file_extension": ".py",
   "mimetype": "text/x-python",
   "name": "python",
   "nbconvert_exporter": "python",
   "pygments_lexer": "ipython3",
   "version": "3.10.5"
  }
 },
 "nbformat": 4,
 "nbformat_minor": 5
}
